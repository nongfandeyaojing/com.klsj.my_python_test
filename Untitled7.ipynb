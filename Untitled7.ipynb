{
 "cells": [
  {
   "cell_type": "code",
   "execution_count": 21,
   "metadata": {},
   "outputs": [
    {
     "data": {
      "text/plain": [
       "\"  SELECT  '秀英海南医院子站',          '海棠路',         name,          SUM(num) as num          ,MAX(DECODE(aa.hh,'00',aa.num,0)) AS sum1          ,MAX(DECODE(aa.hh,'01',aa.num,0)) AS sum2          ,MAX(DECODE(aa.hh,'02',aa.num,0)) AS sum3          ,MAX(DECODE(aa.hh,'03',aa.num,0)) AS sum4          ,MAX(DECODE(aa.hh,'04',aa.num,0)) AS sum5          ,MAX(DECODE(aa.hh,'05',aa.num,0)) AS sum6          ,MAX(DECODE(aa.hh,'06',aa.num,0)) AS sum7          ,MAX(DECODE(aa.hh,'07',aa.num,0)) AS sum8          ,MAX(DECODE(aa.hh,'08',aa.num,0)) AS sum9          ,MAX(DECODE(aa.hh,'09',aa.num,0)) AS sum10          ,MAX(DECODE(aa.hh,'10',aa.num,0)) AS sum11          ,MAX(DECODE(aa.hh,'11',aa.num,0)) AS sum12          ,MAX(DECODE(aa.hh,'12',aa.num,0)) AS sum13          ,MAX(DECODE(aa.hh,'13',aa.num,0)) AS sum14          ,MAX(DECODE(aa.hh,'14',aa.num,0)) AS sum15          ,MAX(DECODE(aa.hh,'15',aa.num,0)) AS sum16          ,MAX(DECODE(aa.hh,'16',aa.num,0)) AS sum17          ,MAX(DECODE(aa.hh,'17',aa.num,0)) AS sum18          ,MAX(DECODE(aa.hh,'18',aa.num,0)) AS sum19          ,MAX(DECODE(aa.hh,'19',aa.num,0)) AS sum20          ,MAX(DECODE(aa.hh,'20',aa.num,0)) AS sum21          ,MAX(DECODE(aa.hh,'21',aa.num,0)) AS sum22          ,MAX(DECODE(aa.hh,'22',aa.num,0)) AS sum23          ,MAX(DECODE(aa.hh,'23',aa.num,0)) AS sum24           ,${yyyymmdd_1} AS dt          ,'24' AS stat_time  FROM    (                           SELECT  a.hh                      ,COUNT(name) AS num                      ,name              FROM    (                          SELECT  SUBSTR(capdate,12,2) AS hh,                                  t.devchnname as name                          FROM    stg_dh_car_pass t                          WHERE   ds = CONCAT(SUBSTR(${yyyymmdd_1}, 1, 4), '-', SUBSTR(${yyyymmdd_1}, 5, 2), '-', SUBSTR(${yyyymmdd_1}, 7, 2))                          and devchnname like '%海棠路%'                      ) a              GROUP BY hh,name                                ) aa  GROUP BY name  union all      SELECT  '秀英海南医院子站',          '杜鹃路',         name,          SUM(num) as num          ,MAX(DECODE(aa.hh,'00',aa.num,0)) AS sum1          ,MAX(DECODE(aa.hh,'01',aa.num,0)) AS sum2          ,MAX(DECODE(aa.hh,'02',aa.num,0)) AS sum3          ,MAX(DECODE(aa.hh,'03',aa.num,0)) AS sum4          ,MAX(DECODE(aa.hh,'04',aa.num,0)) AS sum5          ,MAX(DECODE(aa.hh,'05',aa.num,0)) AS sum6          ,MAX(DECODE(aa.hh,'06',aa.num,0)) AS sum7          ,MAX(DECODE(aa.hh,'07',aa.num,0)) AS sum8          ,MAX(DECODE(aa.hh,'08',aa.num,0)) AS sum9          ,MAX(DECODE(aa.hh,'09',aa.num,0)) AS sum10          ,MAX(DECODE(aa.hh,'10',aa.num,0)) AS sum11          ,MAX(DECODE(aa.hh,'11',aa.num,0)) AS sum12          ,MAX(DECODE(aa.hh,'12',aa.num,0)) AS sum13          ,MAX(DECODE(aa.hh,'13',aa.num,0)) AS sum14          ,MAX(DECODE(aa.hh,'14',aa.num,0)) AS sum15          ,MAX(DECODE(aa.hh,'15',aa.num,0)) AS sum16          ,MAX(DECODE(aa.hh,'16',aa.num,0)) AS sum17          ,MAX(DECODE(aa.hh,'17',aa.num,0)) AS sum18          ,MAX(DECODE(aa.hh,'18',aa.num,0)) AS sum19          ,MAX(DECODE(aa.hh,'19',aa.num,0)) AS sum20          ,MAX(DECODE(aa.hh,'20',aa.num,0)) AS sum21          ,MAX(DECODE(aa.hh,'21',aa.num,0)) AS sum22          ,MAX(DECODE(aa.hh,'22',aa.num,0)) AS sum23          ,MAX(DECODE(aa.hh,'23',aa.num,0)) AS sum24           ,${yyyymmdd_1} AS dt          ,'24' AS stat_time  FROM    (                           SELECT  a.hh                      ,COUNT(name) AS num                      ,name              FROM    (                          SELECT  SUBSTR(capdate,12,2) AS hh,                                  t.devchnname as name                          FROM    stg_dh_car_pass t                          WHERE   ds = CONCAT(SUBSTR(${yyyymmdd_1}, 1, 4), '-', SUBSTR(${yyyymmdd_1}, 5, 2), '-', SUBSTR(${yyyymmdd_1}, 7, 2))                          and devchnname like '%杜鹃路%'                      ) a              GROUP BY hh,name                                ) aa  GROUP BY name  union all    \""
      ]
     },
     "execution_count": 21,
     "metadata": {},
     "output_type": "execute_result"
    }
   ],
   "source": [
    "##秀英海南医院子站\n",
    "xyhayyzz_s = ['海棠路',\n",
    "'杜鹃路']\n",
    "\n",
    "sql = '''\n",
    "SELECT  '秀英海南医院子站',\n",
    "        '子路名',\n",
    "       name,\n",
    "        SUM(num) as num\n",
    "        ,MAX(DECODE(aa.hh,'00',aa.num,0)) AS sum1\n",
    "        ,MAX(DECODE(aa.hh,'01',aa.num,0)) AS sum2\n",
    "        ,MAX(DECODE(aa.hh,'02',aa.num,0)) AS sum3\n",
    "        ,MAX(DECODE(aa.hh,'03',aa.num,0)) AS sum4\n",
    "        ,MAX(DECODE(aa.hh,'04',aa.num,0)) AS sum5\n",
    "        ,MAX(DECODE(aa.hh,'05',aa.num,0)) AS sum6\n",
    "        ,MAX(DECODE(aa.hh,'06',aa.num,0)) AS sum7\n",
    "        ,MAX(DECODE(aa.hh,'07',aa.num,0)) AS sum8\n",
    "        ,MAX(DECODE(aa.hh,'08',aa.num,0)) AS sum9\n",
    "        ,MAX(DECODE(aa.hh,'09',aa.num,0)) AS sum10\n",
    "        ,MAX(DECODE(aa.hh,'10',aa.num,0)) AS sum11\n",
    "        ,MAX(DECODE(aa.hh,'11',aa.num,0)) AS sum12\n",
    "        ,MAX(DECODE(aa.hh,'12',aa.num,0)) AS sum13\n",
    "        ,MAX(DECODE(aa.hh,'13',aa.num,0)) AS sum14\n",
    "        ,MAX(DECODE(aa.hh,'14',aa.num,0)) AS sum15\n",
    "        ,MAX(DECODE(aa.hh,'15',aa.num,0)) AS sum16\n",
    "        ,MAX(DECODE(aa.hh,'16',aa.num,0)) AS sum17\n",
    "        ,MAX(DECODE(aa.hh,'17',aa.num,0)) AS sum18\n",
    "        ,MAX(DECODE(aa.hh,'18',aa.num,0)) AS sum19\n",
    "        ,MAX(DECODE(aa.hh,'19',aa.num,0)) AS sum20\n",
    "        ,MAX(DECODE(aa.hh,'20',aa.num,0)) AS sum21\n",
    "        ,MAX(DECODE(aa.hh,'21',aa.num,0)) AS sum22\n",
    "        ,MAX(DECODE(aa.hh,'22',aa.num,0)) AS sum23\n",
    "        ,MAX(DECODE(aa.hh,'23',aa.num,0)) AS sum24\n",
    "         ,${yyyymmdd_1} AS dt\n",
    "        ,'24' AS stat_time\n",
    "FROM    (\n",
    "\n",
    "            SELECT  a.hh\n",
    "                    ,COUNT(name) AS num\n",
    "                    ,name\n",
    "            FROM    (\n",
    "                        SELECT  SUBSTR(capdate,12,2) AS hh,\n",
    "                                t.devchnname as name\n",
    "                        FROM    stg_dh_car_pass t\n",
    "                        WHERE   ds = CONCAT(SUBSTR(${yyyymmdd_1}, 1, 4), '-', SUBSTR(${yyyymmdd_1}, 5, 2), '-', SUBSTR(${yyyymmdd_1}, 7, 2))\n",
    "                        and devchnname like '%G1501丘海互通南出入口%'\n",
    "                    ) a\n",
    "            GROUP BY hh,name\n",
    "\n",
    "        ) aa\n",
    "GROUP BY name\n",
    "union all\n",
    "\n",
    "'''\n",
    "\n",
    "final_sql = ''\n",
    "\n",
    "for i in xyhayyzz_s:\n",
    "    final_sql = final_sql+sql.replace('G1501丘海互通南出入口',i).replace(\"子路名\",i)\n",
    "final_sql.replace('\\n','  ')"
   ]
  },
  {
   "cell_type": "code",
   "execution_count": 10,
   "metadata": {},
   "outputs": [
    {
     "data": {
      "text/plain": [
       "\"\\n--odps sql \\n--********************************************************************--\\n--author:pengbiwen_banyun\\n--create time:2021-03-01 15:59:39\\n--********************************************************************--\\nSELECT  \\n       name,\\n        SUM(num) as num\\n        ,MAX(DECODE(aa.hh,'00',aa.num,0)) AS sum1\\n        ,MAX(DECODE(aa.hh,'01',aa.num,0)) AS sum2\\n        ,MAX(DECODE(aa.hh,'02',aa.num,0)) AS sum3\\n        ,MAX(DECODE(aa.hh,'03',aa.num,0)) AS sum4\\n        ,MAX(DECODE(aa.hh,'04',aa.num,0)) AS sum5\\n        ,MAX(DECODE(aa.hh,'05',aa.num,0)) AS sum6\\n        ,MAX(DECODE(aa.hh,'06',aa.num,0)) AS sum7\\n        ,MAX(DECODE(aa.hh,'07',aa.num,0)) AS sum8\\n        ,MAX(DECODE(aa.hh,'08',aa.num,0)) AS sum9\\n        ,MAX(DECODE(aa.hh,'09',aa.num,0)) AS sum10\\n        ,MAX(DECODE(aa.hh,'10',aa.num,0)) AS sum11\\n        ,MAX(DECODE(aa.hh,'11',aa.num,0)) AS sum12\\n        ,MAX(DECODE(aa.hh,'12',aa.num,0)) AS sum13\\n        ,MAX(DECODE(aa.hh,'13',aa.num,0)) AS sum14\\n        ,MAX(DECODE(aa.hh,'14',aa.num,0)) AS sum15\\n        ,MAX(DECODE(aa.hh,'15',aa.num,0)) AS sum16\\n        ,MAX(DECODE(aa.hh,'16',aa.num,0)) AS sum17\\n        ,MAX(DECODE(aa.hh,'17',aa.num,0)) AS sum18\\n        ,MAX(DECODE(aa.hh,'18',aa.num,0)) AS sum19\\n        ,MAX(DECODE(aa.hh,'19',aa.num,0)) AS sum20\\n        ,MAX(DECODE(aa.hh,'20',aa.num,0)) AS sum21\\n        ,MAX(DECODE(aa.hh,'21',aa.num,0)) AS sum22\\n        ,MAX(DECODE(aa.hh,'22',aa.num,0)) AS sum23\\n        ,MAX(DECODE(aa.hh,'23',aa.num,0)) AS sum24\\n         ,${yyyymmdd_1} AS dt\\n        ,'24' AS stat_time\\nFROM    (\\n            --- 此处是对应的id  和 其 再 24 小时内的  具体每个小时的 访问数  \\n            SELECT  a.hh\\n                    ,COUNT(name) AS num\\n                    ,name\\n            FROM    (\\n                        SELECT  SUBSTR(capdate,12,2) AS hh,\\n                                t.devchnname as name\\n                        FROM    stg_dh_car_pass t\\n                        WHERE   ds = CONCAT(SUBSTR(${yyyymmdd_1}, 1, 4), '-', SUBSTR(${yyyymmdd_1}, 5, 2), '-', SUBSTR(${yyyymmdd_1}, 7, 2))\\n                        and devchnname like '芙蓉路'\\n                    ) a\\n            GROUP BY hh,name\\n                    \\n        ) aa\\nGROUP BY name\\nunion all\\n\""
      ]
     },
     "execution_count": 10,
     "metadata": {},
     "output_type": "execute_result"
    }
   ],
   "source": [
    "'''\n",
    "--odps sql\n",
    "--********************************************************************--\n",
    "--author:pengbiwen_banyun\n",
    "--create time:2021-03-01 15:59:39\n",
    "--********************************************************************--\n",
    "SELECT\n",
    "       name,\n",
    "        SUM(num) as num\n",
    "        ,MAX(DECODE(aa.hh,'00',aa.num,0)) AS sum1\n",
    "        ,MAX(DECODE(aa.hh,'01',aa.num,0)) AS sum2\n",
    "        ,MAX(DECODE(aa.hh,'02',aa.num,0)) AS sum3\n",
    "        ,MAX(DECODE(aa.hh,'03',aa.num,0)) AS sum4\n",
    "        ,MAX(DECODE(aa.hh,'04',aa.num,0)) AS sum5\n",
    "        ,MAX(DECODE(aa.hh,'05',aa.num,0)) AS sum6\n",
    "        ,MAX(DECODE(aa.hh,'06',aa.num,0)) AS sum7\n",
    "        ,MAX(DECODE(aa.hh,'07',aa.num,0)) AS sum8\n",
    "        ,MAX(DECODE(aa.hh,'08',aa.num,0)) AS sum9\n",
    "        ,MAX(DECODE(aa.hh,'09',aa.num,0)) AS sum10\n",
    "        ,MAX(DECODE(aa.hh,'10',aa.num,0)) AS sum11\n",
    "        ,MAX(DECODE(aa.hh,'11',aa.num,0)) AS sum12\n",
    "        ,MAX(DECODE(aa.hh,'12',aa.num,0)) AS sum13\n",
    "        ,MAX(DECODE(aa.hh,'13',aa.num,0)) AS sum14\n",
    "        ,MAX(DECODE(aa.hh,'14',aa.num,0)) AS sum15\n",
    "        ,MAX(DECODE(aa.hh,'15',aa.num,0)) AS sum16\n",
    "        ,MAX(DECODE(aa.hh,'16',aa.num,0)) AS sum17\n",
    "        ,MAX(DECODE(aa.hh,'17',aa.num,0)) AS sum18\n",
    "        ,MAX(DECODE(aa.hh,'18',aa.num,0)) AS sum19\n",
    "        ,MAX(DECODE(aa.hh,'19',aa.num,0)) AS sum20\n",
    "        ,MAX(DECODE(aa.hh,'20',aa.num,0)) AS sum21\n",
    "        ,MAX(DECODE(aa.hh,'21',aa.num,0)) AS sum22\n",
    "        ,MAX(DECODE(aa.hh,'22',aa.num,0)) AS sum23\n",
    "        ,MAX(DECODE(aa.hh,'23',aa.num,0)) AS sum24\n",
    "         ,${yyyymmdd_1} AS dt\n",
    "        ,'24' AS stat_time\n",
    "FROM    (\n",
    "            --- 此处是对应的id  和 其 再 24 小时内的  具体每个小时的 访问数\n",
    "            SELECT  a.hh\n",
    "                    ,COUNT(name) AS num\n",
    "                    ,name\n",
    "            FROM    (\n",
    "                        SELECT  SUBSTR(capdate,12,2) AS hh,\n",
    "                                t.devchnname as name\n",
    "                        FROM    stg_dh_car_pass t\n",
    "                        WHERE   ds = CONCAT(SUBSTR(${yyyymmdd_1}, 1, 4), '-', SUBSTR(${yyyymmdd_1}, 5, 2), '-', SUBSTR(${yyyymmdd_1}, 7, 2))\n",
    "                        and devchnname like 'G1501丘海互通南出入口'\n",
    "                    ) a\n",
    "            GROUP BY hh,name\n",
    "\n",
    "        ) aa\n",
    "GROUP BY name\n",
    "union all\n",
    "'''.replace('G1501丘海互通南出入口','芙蓉路')"
   ]
  },
  {
   "cell_type": "code",
   "execution_count": 2,
   "metadata": {},
   "outputs": [],
   "source": [
    "import logging"
   ]
  },
  {
   "cell_type": "markdown",
   "metadata": {},
   "source": [
    "## 日志学习：https://www.cnblogs.com/yyds/p/6901864.html"
   ]
  },
  {
   "cell_type": "code",
   "execution_count": 4,
   "metadata": {},
   "outputs": [
    {
     "name": "stderr",
     "output_type": "stream",
     "text": [
      "WARNING:root:This is a warning log.\n",
      "ERROR:root:This is a error log.\n",
      "CRITICAL:root:This is a critical log.\n"
     ]
    }
   ],
   "source": [
    "logging.debug(\"This is a debug log.\")\n",
    "logging.info(\"This is a info log.\")\n",
    "logging.warning(\"This is a warning log.\")\n",
    "logging.error(\"This is a error log.\")\n",
    "logging.critical(\"This is a critical log.\")\n",
    "# 果然只会打印warning、error、critical"
   ]
  },
  {
   "cell_type": "markdown",
   "metadata": {},
   "source": [
    "### 配置下日志器的日志级别"
   ]
  },
  {
   "cell_type": "code",
   "execution_count": 15,
   "metadata": {},
   "outputs": [],
   "source": [
    "# 很迷不知道为什么level不好使\n",
    "logging.basicConfig(level=logging.INFO)\n",
    "\n",
    "logging.debug(\"This is a debug log.\")\n",
    "logging.info(\"This is a info log.\")\n",
    "logging.warning(\"This is a warning log.\")\n",
    "logging.error(\"This is a error log.\")\n",
    "logging.critical(\"This is a critical log.\")"
   ]
  },
  {
   "cell_type": "markdown",
   "metadata": {},
   "source": [
    "### 配置下日志输出目标文件和日志格式"
   ]
  },
  {
   "cell_type": "code",
   "execution_count": 18,
   "metadata": {},
   "outputs": [
    {
     "name": "stderr",
     "output_type": "stream",
     "text": [
      "WARNING:root:This is a warning log.\n",
      "ERROR:root:This is a error log.\n",
      "CRITICAL:root:This is a critical log.\n"
     ]
    }
   ],
   "source": [
    "# 配置好像不起作用\n",
    "LOG_FORMAT = \"%(asctime)s - %(levelname)s - %(message)s\"\n",
    "logging.basicConfig(filename='my.log', level=logging.DEBUG, format=LOG_FORMAT)\n",
    "logging.debug(\"This is a debug log.\")\n",
    "logging.info(\"This is a info log.\")\n",
    "logging.warning(\"This is a warning log.\")\n",
    "logging.error(\"This is a error log.\")\n",
    "logging.critical(\"This is a critical log.\")"
   ]
  },
  {
   "cell_type": "code",
   "execution_count": 24,
   "metadata": {},
   "outputs": [],
   "source": [
    "# 清理已有 handlers\n",
    "# nice确实要先消除log配置\n",
    "root_logger = logging.getLogger()\n",
    "for h in root_logger.handlers:\n",
    "    root_logger.removeHandler(h)"
   ]
  },
  {
   "cell_type": "code",
   "execution_count": 25,
   "metadata": {},
   "outputs": [],
   "source": [
    "logging.basicConfig(filename='example.log',level=logging.DEBUG)\n",
    "logging.debug('This message should go to the log file')\n",
    "logging.info('So should this')\n",
    "logging.warning('And this, too')"
   ]
  },
  {
   "cell_type": "markdown",
   "metadata": {},
   "source": [
    "- 模块 logging\n",
    "- 日志记录模块的API参考。\n",
    "- 模块 logging.config\n",
    "- 日志记录模块的配置API。\n",
    "- 模块 logging.handlers\n",
    "- 日志记录模块随附的有用处理程序"
   ]
  },
  {
   "cell_type": "code",
   "execution_count": 28,
   "metadata": {
    "collapsed": true
   },
   "outputs": [
    {
     "name": "stderr",
     "output_type": "stream",
     "text": [
      "2021-03-06 23:07:31,908 - simple_example - DEBUG - debug message\n",
      "2021-03-06 23:07:31,908 - simple_example - DEBUG - debug message\n",
      "2021-03-06 23:07:31,908 - simple_example - DEBUG - debug message\n",
      "2021-03-06 23:07:31,911 - simple_example - INFO - info message\n",
      "2021-03-06 23:07:31,911 - simple_example - INFO - info message\n",
      "2021-03-06 23:07:31,911 - simple_example - INFO - info message\n",
      "2021-03-06 23:07:31,914 - simple_example - WARNING - warn message\n",
      "2021-03-06 23:07:31,914 - simple_example - WARNING - warn message\n",
      "2021-03-06 23:07:31,914 - simple_example - WARNING - warn message\n",
      "2021-03-06 23:07:31,916 - simple_example - ERROR - error message\n",
      "2021-03-06 23:07:31,916 - simple_example - ERROR - error message\n",
      "2021-03-06 23:07:31,916 - simple_example - ERROR - error message\n",
      "2021-03-06 23:07:31,919 - simple_example - CRITICAL - critical message\n",
      "2021-03-06 23:07:31,919 - simple_example - CRITICAL - critical message\n",
      "2021-03-06 23:07:31,919 - simple_example - CRITICAL - critical message\n"
     ]
    }
   ],
   "source": [
    "import logging\n",
    "\n",
    "# create logger\n",
    "logger = logging.getLogger('simple_example')\n",
    "logger.setLevel(logging.DEBUG)\n",
    "\n",
    "# create console handler and set level to debug\n",
    "ch = logging.StreamHandler()\n",
    "ch.setLevel(logging.DEBUG)\n",
    "\n",
    "# create formatter\n",
    "formatter = logging.Formatter('%(asctime)s - %(name)s - %(levelname)s - %(message)s')\n",
    "\n",
    "# add formatter to ch\n",
    "ch.setFormatter(formatter)\n",
    "\n",
    "# add ch to logger\n",
    "logger.addHandler(ch)\n",
    "\n",
    "# 'application' code\n",
    "logger.debug('debug message')\n",
    "logger.info('info message')\n",
    "logger.warning('warn message')\n",
    "logger.error('error message')\n",
    "logger.critical('critical message')"
   ]
  },
  {
   "cell_type": "markdown",
   "metadata": {},
   "source": [
    "## 定时器 https://blog.csdn.net/qq_37634812/article/details/79208782?ops_request_misc=&request_id=&biz_id=102&utm_term=python%20%E5%AE%9A%E6%97%B6%E5%99%A8%E6%A8%A1%E5%9D%97&utm_medium=distribute.pc_search_result.none-task-blog-2~all~sobaiduweb~default-2-79208782.first_rank_v2_pc_rank_v29"
   ]
  },
  {
   "cell_type": "code",
   "execution_count": 1,
   "metadata": {},
   "outputs": [],
   "source": [
    "# 定时器设置\n",
    "import time\n",
    "from apscheduler.schedulers.blocking import BlockingScheduler"
   ]
  },
  {
   "cell_type": "markdown",
   "metadata": {},
   "source": [
    "### 每60秒执行一次任务"
   ]
  },
  {
   "cell_type": "code",
   "execution_count": 3,
   "metadata": {
    "collapsed": true
   },
   "outputs": [
    {
     "name": "stdout",
     "output_type": "stream",
     "text": [
      "2021-03-06 23:51:47\n",
      "2021-03-06 23:51:52\n",
      "2021-03-06 23:51:57\n",
      "2021-03-06 23:52:02\n",
      "2021-03-06 23:52:07\n",
      "2021-03-06 23:52:12\n",
      "2021-03-06 23:52:17\n",
      "2021-03-06 23:52:22\n",
      "2021-03-06 23:52:27\n",
      "2021-03-06 23:52:32\n",
      "2021-03-06 23:52:37\n",
      "2021-03-06 23:52:42\n",
      "2021-03-06 23:52:47\n",
      "2021-03-06 23:52:52\n",
      "2021-03-06 23:52:57\n",
      "2021-03-06 23:53:02\n",
      "2021-03-06 23:53:07\n",
      "2021-03-06 23:53:12\n",
      "2021-03-06 23:53:17\n",
      "2021-03-06 23:53:22\n",
      "2021-03-06 23:53:27\n",
      "2021-03-06 23:53:32\n"
     ]
    },
    {
     "ename": "KeyboardInterrupt",
     "evalue": "",
     "output_type": "error",
     "traceback": [
      "\u001B[1;31m---------------------------------------------------------------------------\u001B[0m",
      "\u001B[1;31mKeyboardInterrupt\u001B[0m                         Traceback (most recent call last)",
      "\u001B[1;32m<ipython-input-3-17c38574d429>\u001B[0m in \u001B[0;36m<module>\u001B[1;34m\u001B[0m\n\u001B[0;32m      4\u001B[0m \u001B[0msched\u001B[0m \u001B[1;33m=\u001B[0m \u001B[0mBlockingScheduler\u001B[0m\u001B[1;33m(\u001B[0m\u001B[1;33m)\u001B[0m\u001B[1;33m\u001B[0m\u001B[1;33m\u001B[0m\u001B[0m\n\u001B[0;32m      5\u001B[0m \u001B[0msched\u001B[0m\u001B[1;33m.\u001B[0m\u001B[0madd_job\u001B[0m\u001B[1;33m(\u001B[0m\u001B[0mmy_job\u001B[0m\u001B[1;33m,\u001B[0m \u001B[1;34m'interval'\u001B[0m\u001B[1;33m,\u001B[0m \u001B[0mseconds\u001B[0m\u001B[1;33m=\u001B[0m\u001B[1;36m5\u001B[0m\u001B[1;33m)\u001B[0m\u001B[1;33m\u001B[0m\u001B[1;33m\u001B[0m\u001B[0m\n\u001B[1;32m----> 6\u001B[1;33m \u001B[0msched\u001B[0m\u001B[1;33m.\u001B[0m\u001B[0mstart\u001B[0m\u001B[1;33m(\u001B[0m\u001B[1;33m)\u001B[0m\u001B[1;33m\u001B[0m\u001B[1;33m\u001B[0m\u001B[0m\n\u001B[0m",
      "\u001B[1;32mD:\\anaconda\\lib\\site-packages\\apscheduler\\schedulers\\blocking.py\u001B[0m in \u001B[0;36mstart\u001B[1;34m(self, *args, **kwargs)\u001B[0m\n\u001B[0;32m     19\u001B[0m \u001B[1;33m\u001B[0m\u001B[0m\n\u001B[0;32m     20\u001B[0m         \u001B[0msuper\u001B[0m\u001B[1;33m(\u001B[0m\u001B[0mBlockingScheduler\u001B[0m\u001B[1;33m,\u001B[0m \u001B[0mself\u001B[0m\u001B[1;33m)\u001B[0m\u001B[1;33m.\u001B[0m\u001B[0mstart\u001B[0m\u001B[1;33m(\u001B[0m\u001B[1;33m*\u001B[0m\u001B[0margs\u001B[0m\u001B[1;33m,\u001B[0m \u001B[1;33m**\u001B[0m\u001B[0mkwargs\u001B[0m\u001B[1;33m)\u001B[0m\u001B[1;33m\u001B[0m\u001B[1;33m\u001B[0m\u001B[0m\n\u001B[1;32m---> 21\u001B[1;33m         \u001B[0mself\u001B[0m\u001B[1;33m.\u001B[0m\u001B[0m_main_loop\u001B[0m\u001B[1;33m(\u001B[0m\u001B[1;33m)\u001B[0m\u001B[1;33m\u001B[0m\u001B[1;33m\u001B[0m\u001B[0m\n\u001B[0m\u001B[0;32m     22\u001B[0m \u001B[1;33m\u001B[0m\u001B[0m\n\u001B[0;32m     23\u001B[0m     \u001B[1;32mdef\u001B[0m \u001B[0mshutdown\u001B[0m\u001B[1;33m(\u001B[0m\u001B[0mself\u001B[0m\u001B[1;33m,\u001B[0m \u001B[0mwait\u001B[0m\u001B[1;33m=\u001B[0m\u001B[1;32mTrue\u001B[0m\u001B[1;33m)\u001B[0m\u001B[1;33m:\u001B[0m\u001B[1;33m\u001B[0m\u001B[1;33m\u001B[0m\u001B[0m\n",
      "\u001B[1;32mD:\\anaconda\\lib\\site-packages\\apscheduler\\schedulers\\blocking.py\u001B[0m in \u001B[0;36m_main_loop\u001B[1;34m(self)\u001B[0m\n\u001B[0;32m     28\u001B[0m         \u001B[0mwait_seconds\u001B[0m \u001B[1;33m=\u001B[0m \u001B[0mTIMEOUT_MAX\u001B[0m\u001B[1;33m\u001B[0m\u001B[1;33m\u001B[0m\u001B[0m\n\u001B[0;32m     29\u001B[0m         \u001B[1;32mwhile\u001B[0m \u001B[0mself\u001B[0m\u001B[1;33m.\u001B[0m\u001B[0mstate\u001B[0m \u001B[1;33m!=\u001B[0m \u001B[0mSTATE_STOPPED\u001B[0m\u001B[1;33m:\u001B[0m\u001B[1;33m\u001B[0m\u001B[1;33m\u001B[0m\u001B[0m\n\u001B[1;32m---> 30\u001B[1;33m             \u001B[0mself\u001B[0m\u001B[1;33m.\u001B[0m\u001B[0m_event\u001B[0m\u001B[1;33m.\u001B[0m\u001B[0mwait\u001B[0m\u001B[1;33m(\u001B[0m\u001B[0mwait_seconds\u001B[0m\u001B[1;33m)\u001B[0m\u001B[1;33m\u001B[0m\u001B[1;33m\u001B[0m\u001B[0m\n\u001B[0m\u001B[0;32m     31\u001B[0m             \u001B[0mself\u001B[0m\u001B[1;33m.\u001B[0m\u001B[0m_event\u001B[0m\u001B[1;33m.\u001B[0m\u001B[0mclear\u001B[0m\u001B[1;33m(\u001B[0m\u001B[1;33m)\u001B[0m\u001B[1;33m\u001B[0m\u001B[1;33m\u001B[0m\u001B[0m\n\u001B[0;32m     32\u001B[0m             \u001B[0mwait_seconds\u001B[0m \u001B[1;33m=\u001B[0m \u001B[0mself\u001B[0m\u001B[1;33m.\u001B[0m\u001B[0m_process_jobs\u001B[0m\u001B[1;33m(\u001B[0m\u001B[1;33m)\u001B[0m\u001B[1;33m\u001B[0m\u001B[1;33m\u001B[0m\u001B[0m\n",
      "\u001B[1;32mD:\\anaconda\\lib\\threading.py\u001B[0m in \u001B[0;36mwait\u001B[1;34m(self, timeout)\u001B[0m\n\u001B[0;32m    550\u001B[0m             \u001B[0msignaled\u001B[0m \u001B[1;33m=\u001B[0m \u001B[0mself\u001B[0m\u001B[1;33m.\u001B[0m\u001B[0m_flag\u001B[0m\u001B[1;33m\u001B[0m\u001B[1;33m\u001B[0m\u001B[0m\n\u001B[0;32m    551\u001B[0m             \u001B[1;32mif\u001B[0m \u001B[1;32mnot\u001B[0m \u001B[0msignaled\u001B[0m\u001B[1;33m:\u001B[0m\u001B[1;33m\u001B[0m\u001B[1;33m\u001B[0m\u001B[0m\n\u001B[1;32m--> 552\u001B[1;33m                 \u001B[0msignaled\u001B[0m \u001B[1;33m=\u001B[0m \u001B[0mself\u001B[0m\u001B[1;33m.\u001B[0m\u001B[0m_cond\u001B[0m\u001B[1;33m.\u001B[0m\u001B[0mwait\u001B[0m\u001B[1;33m(\u001B[0m\u001B[0mtimeout\u001B[0m\u001B[1;33m)\u001B[0m\u001B[1;33m\u001B[0m\u001B[1;33m\u001B[0m\u001B[0m\n\u001B[0m\u001B[0;32m    553\u001B[0m             \u001B[1;32mreturn\u001B[0m \u001B[0msignaled\u001B[0m\u001B[1;33m\u001B[0m\u001B[1;33m\u001B[0m\u001B[0m\n\u001B[0;32m    554\u001B[0m \u001B[1;33m\u001B[0m\u001B[0m\n",
      "\u001B[1;32mD:\\anaconda\\lib\\threading.py\u001B[0m in \u001B[0;36mwait\u001B[1;34m(self, timeout)\u001B[0m\n\u001B[0;32m    298\u001B[0m             \u001B[1;32melse\u001B[0m\u001B[1;33m:\u001B[0m\u001B[1;33m\u001B[0m\u001B[1;33m\u001B[0m\u001B[0m\n\u001B[0;32m    299\u001B[0m                 \u001B[1;32mif\u001B[0m \u001B[0mtimeout\u001B[0m \u001B[1;33m>\u001B[0m \u001B[1;36m0\u001B[0m\u001B[1;33m:\u001B[0m\u001B[1;33m\u001B[0m\u001B[1;33m\u001B[0m\u001B[0m\n\u001B[1;32m--> 300\u001B[1;33m                     \u001B[0mgotit\u001B[0m \u001B[1;33m=\u001B[0m \u001B[0mwaiter\u001B[0m\u001B[1;33m.\u001B[0m\u001B[0macquire\u001B[0m\u001B[1;33m(\u001B[0m\u001B[1;32mTrue\u001B[0m\u001B[1;33m,\u001B[0m \u001B[0mtimeout\u001B[0m\u001B[1;33m)\u001B[0m\u001B[1;33m\u001B[0m\u001B[1;33m\u001B[0m\u001B[0m\n\u001B[0m\u001B[0;32m    301\u001B[0m                 \u001B[1;32melse\u001B[0m\u001B[1;33m:\u001B[0m\u001B[1;33m\u001B[0m\u001B[1;33m\u001B[0m\u001B[0m\n\u001B[0;32m    302\u001B[0m                     \u001B[0mgotit\u001B[0m \u001B[1;33m=\u001B[0m \u001B[0mwaiter\u001B[0m\u001B[1;33m.\u001B[0m\u001B[0macquire\u001B[0m\u001B[1;33m(\u001B[0m\u001B[1;32mFalse\u001B[0m\u001B[1;33m)\u001B[0m\u001B[1;33m\u001B[0m\u001B[1;33m\u001B[0m\u001B[0m\n",
      "\u001B[1;31mKeyboardInterrupt\u001B[0m: "
     ]
    }
   ],
   "source": [
    "def my_job():\n",
    "    print(time.strftime('%Y-%m-%d %H:%M:%S', time.localtime(time.time())))\n",
    "\n",
    "sched = BlockingScheduler()\n",
    "sched.add_job(my_job, 'interval', seconds=5)\n",
    "sched.start()"
   ]
  },
  {
   "cell_type": "code",
   "execution_count": null,
   "metadata": {},
   "outputs": [
    {
     "name": "stdout",
     "output_type": "stream",
     "text": [
      "2021-03-07 00:03:20\n",
      "2021-03-07 00:03:25\n",
      "2021-03-07 00:03:30\n",
      "2021-03-07 00:03:35\n",
      "2021-03-07 00:03:40\n",
      "2021-03-07 00:03:45\n",
      "2021-03-07 00:03:50\n"
     ]
    }
   ],
   "source": [
    "# 添加作业\n",
    "# 上面是通过add_job()来添加作业，另外还有一种方式是通过scheduled_job()修饰器来修饰函数\n",
    "sched = BlockingScheduler()\n",
    "\n",
    "@sched.scheduled_job(\"interval\", seconds = 5)\n",
    "def my_job1():\n",
    "    print(time.strftime('%Y-%m-%d %H:%M:%S',time.localtime(time.time())))\n",
    "sched.start()"
   ]
  },
  {
   "cell_type": "code",
   "execution_count": null,
   "metadata": {},
   "outputs": [],
   "source": [
    "# 移除作业\n",
    "job  =  scheduler.add_job(myfunc,  'interval' , minutes = 2 )\n",
    "job.remove()\n",
    "#如果有多个任务序列的话可以给每个任务设置ID号，可以根据ID号选择清除对象，且remove放到start前才有效\n",
    "sched.add_job(myfunc,  'interval' , minutes = 2 ,  id = 'my_job_id' )\n",
    "sched.remove_job( 'my_job_id' )"
   ]
  },
  {
   "cell_type": "code",
   "execution_count": null,
   "metadata": {},
   "outputs": [],
   "source": [
    "# 暂停和恢复作业\n",
    "# 暂停作业\n",
    "apsched.job.Job.pause()\n",
    "apsched.schedulers.base.BaseScheduler.pause_job()\n",
    "# 恢复作业\n",
    "apsched.job.Job.resume()\n",
    "apsched.schedulers.base.BaseScheduler.resume_job()"
   ]
  },
  {
   "cell_type": "code",
   "execution_count": 4,
   "metadata": {},
   "outputs": [
    {
     "name": "stdout",
     "output_type": "stream",
     "text": [
      "my_job (trigger: interval[0:00:02], pending)\n",
      "[<Job (id=123 name=my_job)>]\n"
     ]
    }
   ],
   "source": [
    "# 获得调度作业的列表，可以使用get_jobs()来完成，它会返回所有的job实例。或者使用print_jobs()来输出所有格式化的作业列表。\n",
    "def my_job():\n",
    "    print(time.strftime('%Y-%m-%d %H:%M:%S', time.localtime(time.time())))\n",
    "sched = BlockingScheduler()\n",
    "job = sched.add_job(my_job,'interval',seconds=2,id='123')\n",
    "print(sched.get_job(job_id='123'))\n",
    "print(sched.get_jobs())"
   ]
  },
  {
   "cell_type": "code",
   "execution_count": null,
   "metadata": {},
   "outputs": [],
   "source": [
    "# 关闭调度器\n",
    "sched.shutdown()\n",
    "sched.shutdown(wait=False)"
   ]
  },
  {
   "cell_type": "markdown",
   "metadata": {},
   "source": [
    "### 调度方式"
   ]
  },
  {
   "cell_type": "markdown",
   "metadata": {},
   "source": [
    "# cron定时调度（某一定时时刻执行）\n",
    "``` - ( int | str ) 表示参数既可以是 int 类型，也可以是 str 类型\n",
    "- (datetime |  str ) 表示参数既可以是datetime类型，也可以是 str 类型\n",
    "- year ( int | str ) –  4 - digit year  - （表示四位数的年份，如 2008 年）\n",
    "- month ( int | str ) – month ( 1 - 12 )  - （表示取值范围为 1 - 12 月）\n",
    "- day ( int | str ) – day of the ( 1 - 31 )  - （表示取值范围为 1 - 31 日）\n",
    "- week ( int | str ) – ISO week ( 1 - 53 )  - （格里历 2006 年 12 月 31 日可以写成 2006 年 - W52 - 7 （扩展形式）或 2006W527 （紧凑形式））\n",
    "- day_of_week ( int | str ) – number  or  name of weekday ( 0 - 6  or  mon,tue,wed,thu,fri,sat,sun)  -  （表示一周中的第几天，既可以用 0 - 6 表示也可以用其英语缩写表示）\n",
    "- hour ( int | str ) – hour ( 0 - 23 )  -  （表示取值范围为 0 - 23 时）\n",
    "- minute ( int | str ) – minute ( 0 - 59 )  -  （表示取值范围为 0 - 59 分）\n",
    "- second ( int | str ) – second ( 0 - 59 )  -  （表示取值范围为 0 - 59 秒）\n",
    "- start_date (datetime| str ) – earliest possible date / time to trigger on (inclusive)  -  （表示开始时间）\n",
    "- end_date (datetime| str ) – latest possible date / time to trigger on (inclusive)  -  （表示结束时间）\n",
    "- timezone (datetime.tzinfo| str ) – time zone to use  for  the date / time calculations (defaults to scheduler timezone)  - （表示时区取值）\n",
    "```"
   ]
  },
  {
   "cell_type": "code",
   "execution_count": null,
   "metadata": {},
   "outputs": [],
   "source": [
    "#表示2017年3月22日17时19分07秒执行该程序\n",
    "sched.add_job(my_job,'cron',year=2017,month=3,day=22,hour=17,minute=19,second=7)\n",
    "\n",
    "#表示任务在6,7,8,11,12月份的第三个星期五的00:00,01:00,02:00,03:00执行该程序\n",
    "sched.add_job(my_job,'cron',month='6-8,11-12',day='3rdfri',hour='0-3')\n",
    "\n",
    "#表示从星期一到星期五5:30（AM）直到2014-05-3000:00:00\n",
    "sched.add_job(my_job(),'cron',day_of_week='mon-fri',hour=5,minute=30,end_date='2014-05-30')\n",
    "\n",
    "#表示每5秒执行该程序一次，相当于interval间隔调度中seconds=5  这个比较好\n",
    "sched.add_job(my_job,'cron',second='*/5')"
   ]
  },
  {
   "cell_type": "markdown",
   "metadata": {},
   "source": [
    "## interval 间隔调度（每隔多久执行）"
   ]
  },
  {
   "cell_type": "markdown",
   "metadata": {},
   "source": [
    "1. weeks ( int ) – number of weeks to wait\n",
    "2. days ( int ) – number of days to wait\n",
    "3. hours ( int ) – number of hours to wait\n",
    "4. minutes ( int ) – number of minutes to wait\n",
    "5. seconds ( int ) – number of seconds to wait\n",
    "6. start_date (datetime| str ) – starting point  for  the interval calculation\n",
    "7. end_date (datetime| str ) – latest possible date / time to trigger on\n",
    "8. timezone (datetime.tzinfo| str ) – time zone to use  for  the date / time calculations"
   ]
  },
  {
   "cell_type": "code",
   "execution_count": null,
   "metadata": {},
   "outputs": [],
   "source": [
    "#表示每隔3天17时19分07秒执行一次任务\n",
    "sched.add_job(my_job,'interval' ,days =3 ,hours=17 ,minutes=19 ,seconds=7 )"
   ]
  },
  {
   "cell_type": "markdown",
   "metadata": {},
   "source": [
    "## date 定时调度（作业只会执行一次）"
   ]
  },
  {
   "cell_type": "markdown",
   "metadata": {},
   "source": [
    "1. run_date (datetime| str ) – the date / time to run the job at   - （任务开始的时间）\n",
    "2. timezone (datetime.tzinfo| str ) – time zone  for  run_date  if  it doesn’t have one already"
   ]
  },
  {
   "cell_type": "code",
   "execution_count": null,
   "metadata": {},
   "outputs": [],
   "source": [
    "# The job will be executed on November 6th, 2009\n",
    "sched.add_job(my_job,'date' , run_date = date( 2009 ,11 ,6 ), args = [ 'text' ])\n",
    "# The job will be executed on November 6th, 2009 at 16:30:05\n",
    "sched.add_job(my_job,'date' , run_date = datetime( 2009 ,11 ,6 ,16 ,30 ,5 ), args = [ 'text' ])"
   ]
  },
  {
   "cell_type": "markdown",
   "metadata": {},
   "source": [
    "# python模板自动化 http://ddrv.cn/a/277599"
   ]
  },
  {
   "cell_type": "code",
   "execution_count": 54,
   "metadata": {},
   "outputs": [],
   "source": [
    "from docxtpl import DocxTemplate,RichText,InlineImage\n",
    "from datetime import datetime\n",
    "from docx.shared import Mm"
   ]
  },
  {
   "cell_type": "markdown",
   "metadata": {},
   "source": [
    "### docx 富文本插入、样式设计"
   ]
  },
  {
   "cell_type": "code",
   "execution_count": null,
   "metadata": {},
   "outputs": [],
   "source": []
  },
  {
   "cell_type": "code",
   "execution_count": 23,
   "metadata": {},
   "outputs": [],
   "source": [
    "tpl=DocxTemplate('python模板测试.docx')\n",
    "\n",
    "context = {\n",
    "    'alerts' : [\n",
    "        {'date' : '2015-03-10', 'desc' : RichText('Very critical alert',color='FF0000', bold=True), 'type' : 'CRITICAL', 'bg': 'FF0000' },\n",
    "        {'date' : '2015-03-11', 'desc' : RichText('Just a warning'), 'type' : 'WARNING', 'bg': 'FFDD00' },\n",
    "        {'date' : '2015-03-12', 'desc' : RichText('Information'), 'type' : 'INFO', 'bg': '8888FF' },\n",
    "        {'date' : '2015-03-13', 'desc' : RichText('Debug trace'), 'type' : 'DEBUG', 'bg': 'FF00FF' },\n",
    "    ],\n",
    "}\n",
    "\n",
    "tpl.render(context)\n",
    "tpl.save('python模板测试3.docx')"
   ]
  },
  {
   "cell_type": "code",
   "execution_count": 27,
   "metadata": {},
   "outputs": [],
   "source": [
    "tpl=DocxTemplate('python模板测试.docx')\n",
    "\n",
    "context = {\n",
    "    'col_labels' : ['fruit', 'vegetable', 'stone', 'thing'],\n",
    "    'tbl_contents': [\n",
    "        {'label': 'yellow', 'cols': ['banana', 'capsicum', 'pyrite', 'taxi']},\n",
    "        {'label': 'red', 'cols': ['apple', 'tomato', 'cinnabar', 'doubledecker']},\n",
    "        {'label': 'green', 'cols': ['guava', 'cucumber', 'aventurine', 'card']},\n",
    "        ]\n",
    "}\n",
    "\n",
    "tpl.render(context)\n",
    "tpl.save('python模板测试4.docx')"
   ]
  },
  {
   "cell_type": "markdown",
   "metadata": {},
   "source": [
    "### 垂直合并表格单元格  {％vm％}垂直合并单元格"
   ]
  },
  {
   "cell_type": "code",
   "execution_count": 31,
   "metadata": {},
   "outputs": [],
   "source": [
    "tpl=DocxTemplate('python模板测试.docx')\n",
    "\n",
    "context = {\n",
    "    'items' : [\n",
    "        {'desc' : 'Python interpreters', 'qty' : 2, 'price' : 'FREE' },\n",
    "        {'desc' : 'Django projects', 'qty' : 5403, 'price' : 'FREE' },\n",
    "        {'desc' : 'Guido', 'qty' : 1, 'price' : '100,000,000.00' },\n",
    "    ],\n",
    "    'total_price' : '100,000,000.00',\n",
    "    'category' : 'Book'\n",
    "}\n",
    "\n",
    "tpl.render(context)\n",
    "tpl.save('python模板测试5.docx')"
   ]
  },
  {
   "cell_type": "markdown",
   "metadata": {},
   "source": [
    "### 动态垂直合并表格单元格（表格堆叠用于）"
   ]
  },
  {
   "cell_type": "code",
   "execution_count": 34,
   "metadata": {},
   "outputs": [],
   "source": [
    "tpl = DocxTemplate('python模板测试.docx')\n",
    "\n",
    "data = {\n",
    "    \"data\":[\n",
    "        {\"name_0\":\"pkl\",\n",
    "         \"area\":[{\n",
    "             \"name_1\":\"smart\",\n",
    "             \"name_2\":\"beautiful\",\n",
    "             \"name_3\":\"pretty\",\n",
    "             \"name_4\":\"big eyes\",\n",
    "             \"name_5\":\"gentle\"\n",
    "            },{\n",
    "             \"name_1\":\"smart_2\",\n",
    "             \"name_2\":\"beautiful_2\",\n",
    "             \"name_3\":\"pretty_2\",\n",
    "             \"name_4\":\"big eyes_2\",\n",
    "             \"name_5\":\"gentle_2\"\n",
    "            }\n",
    "\n",
    "         ]\n",
    "         },\n",
    "        {\"name_0\":\"lilicat\",\n",
    "         \"area\":[{\n",
    "             \"name_1\":\"stupid\",\n",
    "             \"name_2\":\"beautiful\",\n",
    "             \"name_3\":\"pretty\",\n",
    "             \"name_4\":\"big eyes\",\n",
    "             \"name_5\":\"gentle\"\n",
    "            },{\n",
    "             \"name_1\":\"stupid_2\",\n",
    "             \"name_2\":\"beautiful_2\",\n",
    "             \"name_3\":\"pretty_2\",\n",
    "             \"name_4\":\"big eyes_2\",\n",
    "             \"name_5\":\"gentle_2\"\n",
    "            }\n",
    "\n",
    "         ]\n",
    "         },\n",
    "        {\"name_0\":\"lilicat1\",\n",
    "         \"area\":[{\n",
    "             \"name_1\":\"stupid\",\n",
    "             \"name_2\":\"beautiful\",\n",
    "             \"name_3\":\"pretty\",\n",
    "             \"name_4\":\"big eyes\",\n",
    "             \"name_5\":\"gentle\"\n",
    "            },{\n",
    "             \"name_1\":\"stupid_2\",\n",
    "             \"name_2\":\"beautiful_2\",\n",
    "             \"name_3\":\"pretty_2\",\n",
    "             \"name_4\":\"big eyes_2\",\n",
    "             \"name_5\":\"gentle_2\"\n",
    "            }\n",
    "\n",
    "         ]\n",
    "         }\n",
    "    ]\n",
    "}\n",
    "tpl.render(data)\n",
    "tpl.save('python模板测试6.docx')"
   ]
  },
  {
   "cell_type": "markdown",
   "metadata": {},
   "source": [
    "### 内嵌图片"
   ]
  },
  {
   "cell_type": "code",
   "execution_count": 55,
   "metadata": {},
   "outputs": [],
   "source": [
    "# 本来很简单的被我搞的很复杂\n",
    "tpl = DocxTemplate('python模板测试.docx')\n",
    "data = {\n",
    "    'image':InlineImage(tpl,'测试花1.jpg',width=Mm(30))\n",
    "}\n",
    "tpl.render(data)\n",
    "tpl.save('python模板测试7.docx')"
   ]
  },
  {
   "cell_type": "code",
   "execution_count": null,
   "metadata": {},
   "outputs": [],
   "source": []
  },
  {
   "cell_type": "markdown",
   "source": [
    "# python的pipe管道学习\n"
   ],
   "metadata": {
    "collapsed": false,
    "pycharm": {
     "name": "#%% md\n"
    }
   }
  },
  {
   "cell_type": "code",
   "source": [
    "from pipe import *\n"
   ],
   "metadata": {
    "collapsed": false,
    "pycharm": {
     "name": "#%%\n"
    }
   },
   "execution_count": null,
   "outputs": []
  }
 ],
 "metadata": {
  "kernelspec": {
   "display_name": "Python 3",
   "language": "python",
   "name": "python3"
  },
  "language_info": {
   "codemirror_mode": {
    "name": "ipython",
    "version": 3
   },
   "file_extension": ".py",
   "mimetype": "text/x-python",
   "name": "python",
   "nbconvert_exporter": "python",
   "pygments_lexer": "ipython3",
   "version": "3.7.4"
  },
  "toc": {
   "base_numbering": 1,
   "nav_menu": {},
   "number_sections": true,
   "sideBar": true,
   "skip_h1_title": false,
   "title_cell": "Table of Contents",
   "title_sidebar": "Contents",
   "toc_cell": false,
   "toc_position": {},
   "toc_section_display": true,
   "toc_window_display": false
  }
 },
 "nbformat": 4,
 "nbformat_minor": 2
}